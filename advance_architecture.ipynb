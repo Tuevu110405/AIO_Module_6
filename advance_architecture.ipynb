{
  "nbformat": 4,
  "nbformat_minor": 0,
  "metadata": {
    "colab": {
      "provenance": [],
      "authorship_tag": "ABX9TyNVB0uwz/ciPV+Pa1EMMG40",
      "include_colab_link": true
    },
    "kernelspec": {
      "name": "python3",
      "display_name": "Python 3"
    },
    "language_info": {
      "name": "python"
    }
  },
  "cells": [
    {
      "cell_type": "markdown",
      "metadata": {
        "id": "view-in-github",
        "colab_type": "text"
      },
      "source": [
        "<a href=\"https://colab.research.google.com/github/Tuevu110405/AIO_Module_6/blob/feature%2Fadvanced_CNN_architecture/advance_architecture.ipynb\" target=\"_parent\"><img src=\"https://colab.research.google.com/assets/colab-badge.svg\" alt=\"Open In Colab\"/></a>"
      ]
    },
    {
      "cell_type": "code",
      "execution_count": null,
      "metadata": {
        "id": "sVGoL_U2jv3N"
      },
      "outputs": [],
      "source": [
        "import torch\n",
        "import torch.nn as nn\n",
        "import os\n",
        "import random\n",
        "import numpy as np\n",
        "import pandas as pd\n",
        "import matplotlib.pyplot as plt\n",
        "\n",
        "from PIL import Image\n",
        "from torch.utils.data import Dataset, DataLoader\n",
        "from sklearn.model_selection import train_test_split"
      ]
    },
    {
      "cell_type": "code",
      "source": [
        "def set_seed(seed):\n",
        "    random.seed(seed)\n",
        "    np.random.seed(seed)\n",
        "    torch.manual_seed(seed)\n",
        "    torch.cuda.manual_seed(seed)\n",
        "    torch.cuda.manual_seed_all(seed)\n",
        "    torch.backends.cudnn.deterministic = True\n",
        "    torch.backends.cudnn.benchmark = False\n",
        "\n",
        "seed = 59\n",
        "set_seed(seed)"
      ],
      "metadata": {
        "id": "8aYtF_WkjuWR"
      },
      "execution_count": null,
      "outputs": []
    },
    {
      "cell_type": "code",
      "source": [
        "root_dir = 'weather-dataset/dataset'\n",
        "img_paths = []\n",
        "labels = []\n",
        "classes = {\n",
        "    label_idx: class_name \\\n",
        "    for label_idx, class_name in enumerate(\n",
        "        sorted(os.listdir(root_dir))\n",
        "    )\n",
        "}\n"
      ],
      "metadata": {
        "id": "xBJ5a8Z4kD78"
      },
      "execution_count": null,
      "outputs": []
    },
    {
      "cell_type": "code",
      "source": [
        "img_paths = []\n",
        "labels = []\n",
        "for label_idx, class_name in classes.items():\n",
        "    class_dir = os.path.join(root_dir, class_name)\n",
        "    for img_filename in os.listdir(class_dir):\n",
        "        img_paths.append(os.path.join(class_dir, img_filename))\n",
        "        labels.append(label_idx)"
      ],
      "metadata": {
        "id": "FIi1OyjclfEO"
      },
      "execution_count": null,
      "outputs": []
    },
    {
      "cell_type": "code",
      "source": [
        "val_size = 0.2\n",
        "test_size = 0.125\n",
        "is_shuffle = True\n",
        "\n",
        "X_train, X_val, y_train, y_val = train_test_split(\n",
        "    img_paths,\n",
        "    labels,\n",
        "    test_size=val_size,\n",
        "    shuffle=is_shuffle,\n",
        "    random_state=seed\n",
        ")\n",
        "\n",
        "X_train, X_test, y_train, y_test = train_test_split(\n",
        "    X_train,\n",
        "    y_train,\n",
        "    test_size=test_size,\n",
        "    shuffle=is_shuffle,\n",
        "    random_state=seed\n",
        ")"
      ],
      "metadata": {
        "id": "A3DHrvznmeu2"
      },
      "execution_count": null,
      "outputs": []
    },
    {
      "cell_type": "code",
      "source": [
        "class WeatherDataset(Dataset):\n",
        "    def __init__(self, X, y, transforms=None):\n",
        "        self.transform = transform\n",
        "        self.img_paths = X\n",
        "        self.labels = y\n",
        "\n",
        "    def __len__(self):\n",
        "        return len(self.img_paths)\n",
        "\n",
        "    def __getitem__(self, idx):\n",
        "        img_path = self.img_paths[idx]\n",
        "        img = Image.open(img_path).covert(\"RGB\")\n",
        "\n",
        "        if self.transform:\n",
        "            img = self.transform(img)\n",
        "\n",
        "        label = self.labels[idx]\n",
        "        return img, label"
      ],
      "metadata": {
        "id": "fGcS7XfPouls"
      },
      "execution_count": null,
      "outputs": []
    },
    {
      "cell_type": "code",
      "source": [
        "def transform(img, img_size=(224, 224)):\n",
        "    img = img.resize(img_size)\n",
        "    img = np.array(img)[..., :3]\n",
        "    img = torch.tensor(img).permute(2,0,1).float()\n",
        "    normalized_img = img / 255.0\n",
        "\n",
        "    return normalized_img"
      ],
      "metadata": {
        "id": "fc-GzVZKuhdS"
      },
      "execution_count": null,
      "outputs": []
    },
    {
      "cell_type": "code",
      "source": [
        "train_dataset = WeatherDataset(\n",
        "    X_train,\n",
        "    y_train,\n",
        "    transforms=transform\n",
        ")\n",
        "\n",
        "val_dataset = WeatherDataset(\n",
        "    X_val,\n",
        "    y_val,\n",
        "    transforms=transform\n",
        ")\n",
        "\n",
        "test_dataset = WeatherDataset(\n",
        "    X_test,\n",
        "    y_test,\n",
        "    transforms=transform\n",
        ")"
      ],
      "metadata": {
        "id": "uldzwwLUv5Sk"
      },
      "execution_count": null,
      "outputs": []
    },
    {
      "cell_type": "code",
      "source": [
        "train_batch_size = 512\n",
        "test_batch_size = 8\n",
        "\n",
        "train_loader = DataLoader(\n",
        "    train_dataset,\n",
        "    batch_size=train_batch_size,\n",
        "    shuffle=True\n",
        ")\n",
        "\n",
        "val_loader = DataLoader(\n",
        "    val_dataset,\n",
        "    batch_size=test_batch_size,\n",
        "    shuffle=False\n",
        ")\n",
        "\n",
        "test_loader = DataLoader(\n",
        "    test_dataset,\n",
        "    batch_size=test_batch_size,\n",
        "    shuffle=False\n",
        ")"
      ],
      "metadata": {
        "id": "sI9gxg5V0vVm"
      },
      "execution_count": null,
      "outputs": []
    },
    {
      "cell_type": "code",
      "source": [
        "class ResidualBlock(nn.Module):\n",
        "    def __init__(self, in_channels, out_channels, stride=1):\n",
        "        super(ResidualBlock, self).__init__()\n",
        "        self.conv1 = nn.Conv2d(in_channels, out_channels, kernel_size = 3, stride =stride, padding = 1)\n",
        "        self.batch_norm1 = nn.BatchNorm2d(out_channels)\n",
        "        self.conv2 = nn.Conv2d(out_channels, out_channels, kernel_size = 3, stride = 1, padding = 1)\n",
        "        self.batch_norm2 = nn.BatchNorm2d(out_channels)\n",
        "        self.downsample = nn.Sequential()\n",
        "        if stride != 1 or in_channels != out_channels:\n",
        "            self.downsample = nn.Sequential(\n",
        "                nn.Conv2d(in_channels, out_channels, kernel_size = 1, stride = stride),\n",
        "                nn.BatchNorm2d(out_channels)\n",
        "            )\n",
        "            self.relu = nn.ReLU()\n",
        "\n",
        "    def forward(self, x):\n",
        "        shortcut = x.clone()\n",
        "        x = self.conv1(x)\n",
        "        x = self.batch_norm1(x)\n",
        "        x = self.relu(x)\n",
        "        x = self.conv2(x)\n",
        "        x = self.batch_norm2(x)\n",
        "        x += self.downsample(shortcut)\n",
        "        x = self.relu(x)\n",
        "        return x\n",
        "\n"
      ],
      "metadata": {
        "id": "PAEEQN_G1bHa"
      },
      "execution_count": null,
      "outputs": []
    },
    {
      "cell_type": "code",
      "source": [
        "class ResNet(nn.Module):\n",
        "    def __init__(self, residual_block, n_block_lst, n_block_lst, n_classes):\n",
        "        super(ResNet, self).__init__()\n",
        "        self.conv1 = nn.Conv2d(3, 64, kernel_size = 7, stride = 2, padding = 3)\n",
        "        self.batch_norm1 = nn.BatchNorm2d(64)\n",
        "        self.relu = nn.ReLU()\n",
        "        self.max_pool = nn.MaxPool2d(kernel_size=3, stride=2, padding=1)\n",
        "        self.conv2 = self.create_layer(residual_block,64, 64, n_block_lst[0], 1)\n",
        "        self.conv3 = self.create_layer(residual_block, 64, 128, n_block_lst[1], 2)\n",
        "        self.conv4 = self.create_layer(residual_block, 128, 256, n_block_lst[2], 2)\n",
        "        self.conv5 = self.create_layer(residual_block, 256, 512, n_block_lst[3], 2)\n",
        "        self.avgpool = nn.AdaptiveAvgPool2d((1, 1))\n",
        "        self.flatten = nn.Flatten()\n",
        "        self.fc1 = nn.Linear(512, n_classes)\n",
        "\n",
        "        def create_layer(self, residual_block, in_channels, out_channels, n_blocks, stride):\n",
        "            blocks = []\n",
        "            first_block = residual_block(in_channels, out_channels, stride)\n",
        "            blocks.append(first_block)\n",
        "\n",
        "            for idx in range(1, n_blocks):\n",
        "                block = residual_block(out_channels, out_channels, stride)\n",
        "                blocks.append(block)\n",
        "\n",
        "            return nn.Sequential(*blocks)\n",
        "\n",
        "        def forward(self, x):\n",
        "            x = self.conv1(x)\n",
        "            x = self.batch_norm1(x)\n",
        "            x = self.maxpool(x)\n",
        "            x = self.relu(x)\n",
        "            x = self.conv2(x)\n",
        "            x = self.conv3(x)\n",
        "            x = self.conv4(x)\n",
        "            x = self.conv5(x)\n",
        "            x = self.avgpool(x)\n",
        "            x = self.flatten(x)\n",
        "            x = self.fc1(x)\n",
        "            return x"
      ],
      "metadata": {
        "id": "fukGJelQ9tf9"
      },
      "execution_count": null,
      "outputs": []
    },
    {
      "cell_type": "code",
      "source": [
        "n_classes = len(list(classes.keys()))\n",
        "device = 'cuda' if torch.cuda.is_available() else 'cpu'\n",
        "\n",
        "model = ResNet(ResidualBlock, [2, 2, 2, 2], n_classes).to(device)"
      ],
      "metadata": {
        "id": "vFhcHdvEpm9Z"
      },
      "execution_count": null,
      "outputs": []
    },
    {
      "cell_type": "code",
      "source": [
        "def evaluate(model, dataloader, criterion, device):\n",
        "    model.eval()\n",
        "    correct = 0\n",
        "    total = 0\n",
        "    losses = []\n",
        "    with torch.no_grad():\n",
        "        for inputs, labels in dataloader:\n",
        "            inputs, labels = inputs.to(device), labels.to(device)\n",
        "            outputs = model(inputs)\n",
        "            loss = criterion(outputs, labels)\n",
        "            losses.append(loss.item())\n",
        "\n",
        "            _, predicted = torch.max(outputs.data, 1)\n",
        "            total += labels.size(0)\n",
        "            correct += (predicted == labels).sum().item()\n",
        "\n",
        "    accuracy = correct / total\n",
        "    loss = np.mean(losses)\n",
        "    return loss, accuracy"
      ],
      "metadata": {
        "id": "TpWeEB25qC3_"
      },
      "execution_count": null,
      "outputs": []
    },
    {
      "cell_type": "code",
      "source": [
        "def fit(\n",
        "        model,\n",
        "        train_loader,\n",
        "        val_loader,\n",
        "        criterion,\n",
        "        optimizer,\n",
        "        device,\n",
        "        epochs\n",
        "):\n",
        "    train_losses = []\n",
        "    val_losses = []\n",
        "\n",
        "    for epoch in range(epochs):\n",
        "        batch_train_losses = []\n",
        "        model.train()\n",
        "        for idx, (inputs, labels) in enumerate(train_loader):\n",
        "            inputs, labels = inputs.to(device), labels.to(device)\n",
        "            optimizer.zero_grad()\n",
        "            outputs = model(inputs)\n",
        "            loss = criterion(outputs, labels)\n",
        "            loss.backward()\n",
        "            optimizer.step()\n",
        "            batch_train_losses.append(loss.item())\n",
        "\n",
        "        train_loss = np.mean(batch_train_losses)\n",
        "        train_losses.append(train_loss)\n",
        "\n",
        "        val_loss, val_accuracy = evaluate(model, val_loader, criterion, device)\n",
        "        val_losses.append(val_loss)\n",
        "        print(f'EPOCH {epoch + 1}:\\tTrain loss = {train_loss:.4f}\\tVal loss = {val_loss:.4f}\\tVal accuracy = {val_accuracy:.4f}')\n",
        "\n",
        "    return train_losses, val_losses"
      ],
      "metadata": {
        "id": "1hSXZPG_q60T"
      },
      "execution_count": null,
      "outputs": []
    },
    {
      "cell_type": "code",
      "source": [
        "lr = 1e-2\n",
        "epochs = 25\n",
        "\n",
        "criterion = 25\n",
        "optimizer = torch.optim.SGD(model.parameters(), lr=lr)\n"
      ],
      "metadata": {
        "id": "Rnqm5HlE5T9c"
      },
      "execution_count": null,
      "outputs": []
    },
    {
      "cell_type": "code",
      "source": [
        "train_losses, val_losses = fit(\n",
        "    model,\n",
        "    train_loader,\n",
        "    val_loader,\n",
        "    criterion,\n",
        "    optimizer,\n",
        "    device,\n",
        "    epochs\n",
        ")"
      ],
      "metadata": {
        "id": "yRuz3TY15nMs"
      },
      "execution_count": null,
      "outputs": []
    },
    {
      "cell_type": "markdown",
      "source": [
        "Đánh giá mô hình"
      ],
      "metadata": {
        "id": "CxBmRtzM5uwG"
      }
    },
    {
      "cell_type": "code",
      "source": [
        "val_loss, val_acc = evaluate(model, val_loader, criterion, device)\n",
        "test_loss, test_acc = evaluate(model, test_loader, criterion, device)\n",
        "print(f'Val loss = {val_loss:.4f}\\tVal accuracy = {val_acc:.4f}')\n",
        "print(f'Test loss = {test_loss:.4f}\\tTest accuracy = {test_acc:.4f}')"
      ],
      "metadata": {
        "id": "HltO6Ir15thi"
      },
      "execution_count": null,
      "outputs": []
    },
    {
      "cell_type": "markdown",
      "source": [
        "Scene classification"
      ],
      "metadata": {
        "id": "nSpMXLcDoUG7"
      }
    },
    {
      "cell_type": "code",
      "source": [
        "import torch\n",
        "import torch.nn as nn\n",
        "import os\n",
        "import random\n",
        "import numpy as np\n",
        "import pandas as pd\n",
        "import matplotlib.pyplot as plt\n",
        "\n",
        "from PIL import Image\n",
        "from torch.utils.data import Dataset, DataLoader\n",
        "from sklearn.model_selection import train_test_split"
      ],
      "metadata": {
        "id": "ZRVADNmu626O"
      },
      "execution_count": null,
      "outputs": []
    },
    {
      "cell_type": "code",
      "source": [
        "def set_seed(seed):\n",
        "    random.seed(seed)\n",
        "    np.random.seed(seed)\n",
        "    torch.manual_seed(seed)\n",
        "    torch.cuda.manual_seed(seed)\n",
        "    torch.cuda.manual_seed_all(seed)\n",
        "    torch.backends.cudnn.deterministic = True\n",
        "    torch.backends.cudnn.benchmark = False\n",
        "\n",
        "seed = 59\n",
        "set_seed(seed)"
      ],
      "metadata": {
        "id": "Ktwb4h_v7kgK"
      },
      "execution_count": null,
      "outputs": []
    },
    {
      "cell_type": "code",
      "source": [
        "root_dir = 'scenes_classification'\n",
        "train_dir = os.path.join(root_dir, 'train')\n",
        "test_dir = os.path.join(root_dir, 'val')\n",
        "\n",
        "classes = {\n",
        "    label_idx: class_name \\\n",
        "        for label_idx, class_name in enumerate(\n",
        "            sorted(os.listdir(train_dir))\n",
        "    )\n",
        "}\n"
      ],
      "metadata": {
        "id": "fwH36yHR7suH"
      },
      "execution_count": null,
      "outputs": []
    },
    {
      "cell_type": "code",
      "source": [
        "X_train = []\n",
        "y_train = []\n",
        "X_test = []\n",
        "y_test = []\n",
        "\n",
        "for dataset_path in [train_dir, test_dir]:\n",
        "    for label_idx, class_name in classes.items():\n",
        "        class_dir = os.path.join(dataset_path, class_name)\n",
        "        for img_filename in os.listdir(class_dir):\n",
        "            img_path = os.path.join(class_dir, img_filename)\n",
        "            if 'train' in dataset_path:\n",
        "                X_train.append(img_path)\n",
        "                y_train.append(label_idx)\n",
        "            else:\n",
        "                X_test.append(img_path)\n",
        "                y_test.append(label_idx)"
      ],
      "metadata": {
        "id": "VIadAWPC8Xvv"
      },
      "execution_count": null,
      "outputs": []
    },
    {
      "cell_type": "code",
      "source": [
        "seed = 0\n",
        "val_size = 0.2\n",
        "is_shuffle = True\n",
        "\n",
        "X_train, X_val, y_train, y_val = train_test_split(\n",
        "    X_train,\n",
        "    y_train,\n",
        "    test_size=val_size,\n",
        "    shuffle=is_shuffle,\n",
        "    random_state=seed\n",
        ")"
      ],
      "metadata": {
        "id": "3l6s07RU04qk"
      },
      "execution_count": null,
      "outputs": []
    },
    {
      "cell_type": "code",
      "source": [
        "class ScenesDataset(Dataset):\n",
        "    def __init__(self, X, y, transforms = None):\n",
        "        self.transform = transforms\n",
        "        self.img_paths = X\n",
        "        self.labels = y\n",
        "\n",
        "    def __len__(self):\n",
        "        return len(self.img_paths)\n",
        "\n",
        "    def __getitem__(self, idx):\n",
        "        img_path = self.img_paths[idx]\n",
        "        img = Image.open(img_path).convert('RGB')\n",
        "\n",
        "        if self.transform:\n",
        "            img = self.transform(img)\n",
        "\n",
        "        label = self.labels[idx]\n",
        "        return img, label"
      ],
      "metadata": {
        "id": "HYOZNv9U2wPr"
      },
      "execution_count": null,
      "outputs": []
    },
    {
      "cell_type": "code",
      "source": [
        "def transform(img, img_size=(224, 224)):\n",
        "    img = img.resize(img_size)\n",
        "    img = np.array(img)[..., :3]\n",
        "    img = torch.tensor(img).permute(2, 0, 1).float()\n",
        "    noemalized_img = img / 255.0\n",
        "\n",
        "    return noemalized_img"
      ],
      "metadata": {
        "id": "XYHxkZvA4VVd"
      },
      "execution_count": null,
      "outputs": []
    },
    {
      "cell_type": "code",
      "source": [
        "train_dataset = ScenesDataset(X_train, y_train, transforms=transform)\n",
        "val_dataset = ScenesDataset(X_val, y_val, transforms=transform)\n",
        "test_dataset = ScenesDataset(X_test, y_test, transforms=transform)"
      ],
      "metadata": {
        "id": "yeD-G-zf4iGH"
      },
      "execution_count": null,
      "outputs": []
    },
    {
      "cell_type": "code",
      "source": [
        "train_batch_size = 64\n",
        "test_batch_size = 8\n",
        "\n",
        "train_loader = DataLoader(\n",
        "    train_dataset,\n",
        "    batch_size=train_batch_size,\n",
        "    shuffle=True\n",
        ")\n",
        "val_loader = DataLoader(\n",
        "    val_dataset,\n",
        "    batch_size=test_batch_size,\n",
        "    shuffle=False\n",
        ")\n",
        "test_loader = DataLoader(\n",
        "    test_dataset,\n",
        "    batch_size=test_batch_size,\n",
        "    shuffle=False\n",
        ")"
      ],
      "metadata": {
        "id": "FD7Nn3Aj5Dz8"
      },
      "execution_count": null,
      "outputs": []
    },
    {
      "cell_type": "code",
      "source": [
        "class BotteneckBlock(nn.Module):\n",
        "    def __init__(self, in_channels, growth_rate):\n",
        "        super(BotteneckBlock, self).__init__()\n",
        "        self.bn1 = nn.BatchNorm2d(in_channels)\n",
        "        self.conv1 = nn.Conv2d(in_channels, 4 * growth_rate, kernel_size=1, bias=False)\n",
        "        self.bn2 = nn.BatchNorm2d(4 * growth_rate)\n",
        "        self.conv2 = nn.Conv2d(4 * growth_rate, growth_rate, kernel_size=3, padding=1, bias=False)\n",
        "        self.relu = nn.ReLU(inplace=True)\n",
        "\n",
        "    def forward(self, x):\n",
        "        res = x.clone().detach()\n",
        "        x = self.bn1(x)\n",
        "        x = self.conv1(x)\n",
        "        x = self.bn2(x)\n",
        "        x = self.relu(x)\n",
        "        x = self.conv2(x)\n",
        "        x = torch.cat([res, x], 1)\n",
        "        return x\n",
        "\n",
        "class DenseBlock(nn.Module):\n",
        "    def __init__(self, num_layers, in_channels. growth_rate):\n",
        "        super(DenseBlock, self).__init__()\n",
        "        layers = []\n",
        "        for i in range(num_layers):\n",
        "            layers.append(BotteneckBlock(in_channels + i * growth_rate, growth_rate))\n",
        "        self.block = nn.Sequential(*layers)\n",
        "\n",
        "    def forward(self, x):\n",
        "        return self.dense_block(x)"
      ],
      "metadata": {
        "id": "qdS1F6In6HwU"
      },
      "execution_count": null,
      "outputs": []
    },
    {
      "cell_type": "code",
      "source": [
        "class DenseNet(nn.Module):\n",
        "    def __init__(self, num_blocks, growth_rate, num_classes):\n",
        "        super(DenseNet, self).__init__()\n",
        "        self.conv1 = nn.Conv2d(3, 2*growth_rate,kernel_size = 7, padding = 3, stride = 2, bias = False)\n",
        "        self.bn1 = nn.BatchNorm2d(2*growth_rate)\n",
        "        self.pool1 = nn.MaxPool2d(kernel_size = 3, stride = 2, padding = 1)\n",
        "\n",
        "        self.dense_blocks = nn.ModuleList()\n",
        "        in_channels = 2 * growth_rate\n",
        "        for i, num_layers in enumerate(num_blocks):\n",
        "            self.dense_blocks.append(DenseBlock(num_layers, in_channels, growth_rate))\n",
        "            in_channels += num_layers * growth_rate\n",
        "            if i != len(num_blocks) - 1:\n",
        "                out_channels = in_channels // 2\n",
        "                self.dense_blocks.append(nn.Sequential(\n",
        "                    nn.BatchNorm2d(in_channels),\n",
        "                    nn.Conv2d(in_channels, out_channels, kernel_size=1, bias=False),\n",
        "\n",
        "                    nn.AvgPool2d(kernel_size=2, stride=2)\n",
        "                ))\n",
        "                in_channels = out_channels\n",
        "\n",
        "        self.bn2 = nn.BatchNorm2d(in_channels)\n",
        "        self.pool2 = nn.AvgPool2d(kernel_size = 7)\n",
        "        self.relu = nn.ReLU()\n",
        "        self.fc = nn.Linear(in_channels, num_classes)\n",
        "\n",
        "    def forward(self, x):\n",
        "        x = self.conv1(x)\n",
        "        x = self.bn1(x)\n",
        "        x = self.relu(x)\n",
        "        x = self.pool1(x)\n",
        "\n",
        "        for block in self.dense_blocks:\n",
        "            x = block(x)\n",
        "\n",
        "        x = self.bn2(x)\n",
        "        x = self.pool2(x)\n",
        "        x = x.view(x.size(0), -1)\n",
        "        x = self.fc(x)\n",
        "        return x"
      ],
      "metadata": {
        "id": "2nq3Rw1LBNGN"
      },
      "execution_count": null,
      "outputs": []
    },
    {
      "cell_type": "code",
      "source": [
        "n_classes = len(list(classes.keys()))\n",
        "device = 'cuda' if torch.cuda.is_available() else 'cpu'\n",
        "\n",
        "model = DenseNet([6, 12, 24, 16], 32, n_classes).to(device)\n"
      ],
      "metadata": {
        "id": "FuRBH3CtE4WI"
      },
      "execution_count": null,
      "outputs": []
    },
    {
      "cell_type": "code",
      "source": [
        "lr = 1e-2\n",
        "epochs = 15\n",
        "\n",
        "criterion = nn.CrossEntropyLoss()\n",
        "optimizer = torch.optim.SGD(model.parameters(), lr=lr)"
      ],
      "metadata": {
        "id": "08br7HfiFOOd"
      },
      "execution_count": null,
      "outputs": []
    },
    {
      "cell_type": "code",
      "source": [
        "train_losses, val_losses = fit(\n",
        "    model,\n",
        "    train_loader,\n",
        "    val_loader,\n",
        "    criterion,\n",
        "    optimizer,\n",
        "    device,\n",
        "    epochs\n",
        ")"
      ],
      "metadata": {
        "id": "6snfqIgXFZfp"
      },
      "execution_count": null,
      "outputs": []
    },
    {
      "cell_type": "code",
      "source": [
        "val_loss, val_acc = evaluate(model, val_loader, criterion, device)\n",
        "test_loss, test_acc = evaluate(model, test_loader, criterion, device)\n",
        "\n",
        "\n",
        "\n"
      ],
      "metadata": {
        "id": "oyInszbkFg-u"
      },
      "execution_count": null,
      "outputs": []
    },
    {
      "cell_type": "markdown",
      "source": [
        "Multiple choice"
      ],
      "metadata": {
        "id": "bQEYQ5virLeM"
      }
    },
    {
      "cell_type": "code",
      "source": [
        "import torch\n",
        "import torch.nn as nn\n",
        "\n",
        "seed = 1\n",
        "torch.manual_seed(seed)\n",
        "torch.cuda.manual_seed(seed)\n",
        "torch.backends.cudnn.deterministic = True\n",
        "torch.backends.cudnn.benchmark = False\n",
        "\n",
        "input_tensor = torch.tensor([[[1.0, 2.0], [3.0, 4.0]]])\n",
        "\n",
        "conv_layer = nn.Conv2d(in_channels=1, out_channels=1, kernel_size=1)\n",
        "conv_output = conv_layer(input_tensor)\n",
        "\n",
        "with torch.no_grad():\n",
        "    output = conv_output + input_tensor\n",
        "\n",
        "    print(output)"
      ],
      "metadata": {
        "id": "U_svF8hmuSLa"
      },
      "execution_count": null,
      "outputs": []
    },
    {
      "cell_type": "code",
      "source": [
        "import numpy as np\n",
        "\n",
        "data = np.array([[[1, 6], [3,4]]])\n",
        "data = torch.tensor(data, dtype = torch.float32)\n",
        "\n",
        "bnorm = nn.BatchNorm2d(1)\n",
        "data = data.unsqueeze(0)\n",
        "with torch.no_grad():\n",
        "    output = bnorm(data)\n",
        "    print(output)"
      ],
      "metadata": {
        "id": "SrdOoBvB1S1-"
      },
      "execution_count": null,
      "outputs": []
    },
    {
      "cell_type": "code",
      "source": [
        "import  torch\n",
        "\n",
        "a = torch.tensor([[1,2],[3,4]])\n",
        "b = torch.tensor([[1,2],[3,4]])\n",
        "\n",
        "a = a.reshape(1,2,2)\n",
        "b = b.reshape(1,2,2)\n",
        "\n",
        "print(a)\n",
        "print(b)\n",
        "print(torch.cat((a,b)))"
      ],
      "metadata": {
        "id": "ixzXm6vU4GXp"
      },
      "execution_count": null,
      "outputs": []
    },
    {
      "cell_type": "code",
      "source": [],
      "metadata": {
        "id": "2G18pgZz7sq5"
      },
      "execution_count": null,
      "outputs": []
    }
  ]
}