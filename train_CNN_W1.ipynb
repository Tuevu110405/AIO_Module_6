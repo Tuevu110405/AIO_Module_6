{
  "nbformat": 4,
  "nbformat_minor": 0,
  "metadata": {
    "colab": {
      "provenance": [],
      "authorship_tag": "ABX9TyOT1LkjRW45UEfAD8mYDKsI",
      "include_colab_link": true
    },
    "kernelspec": {
      "name": "python3",
      "display_name": "Python 3"
    },
    "language_info": {
      "name": "python"
    }
  },
  "cells": [
    {
      "cell_type": "markdown",
      "metadata": {
        "id": "view-in-github",
        "colab_type": "text"
      },
      "source": [
        "<a href=\"https://colab.research.google.com/github/Tuevu110405/AIO_Module_6/blob/feature%2FCNN-week1/train_CNN_W1.ipynb\" target=\"_parent\"><img src=\"https://colab.research.google.com/assets/colab-badge.svg\" alt=\"Open In Colab\"/></a>"
      ]
    },
    {
      "cell_type": "code",
      "execution_count": null,
      "metadata": {
        "id": "wFn_XbF8O92R"
      },
      "outputs": [],
      "source": [
        "import os\n",
        "import random\n",
        "import numpy as np\n",
        "\n",
        "import torch\n",
        "import torch.nn as nn\n",
        "import torch.optim as optim\n",
        "import torch.nn.functional as F\n",
        "import torch.utils.data as data\n",
        "\n",
        "import torchvision.transforms as transforms\n",
        "import torchvision.datasets as datasets\n",
        "\n",
        "from torchsummary import summary\n",
        "\n",
        "import matplotlib.pyplot as plt\n",
        "from PIL import Image\n",
        "\n",
        "\n",
        "\n",
        "ROOT = './data'\n",
        "train_data = datasets.MNIST(root=ROOT, train=True, download=True)\n",
        "test_data = datasets.MNIST(root=ROOT, train=False, download=True)"
      ]
    },
    {
      "cell_type": "code",
      "source": [
        "\n",
        "\n",
        "import time"
      ],
      "metadata": {
        "id": "0bFrK-J_dPK1"
      },
      "execution_count": null,
      "outputs": []
    },
    {
      "cell_type": "code",
      "source": [
        "VALID_RATIO = 0.9\n",
        "\n",
        "n_train_examples = int(len(train_data)* VALID_RATIO)\n",
        "n_valid_examples = len(train_data) - n_train_examples\n",
        "\n",
        "train_data, valid_data = data.random_split(train_data, [n_train_examples, n_valid_examples])\n",
        "\n",
        "mean = train_data.dataset.data.float().mean() /255\n",
        "std = train_data.dataset.data.float().std() /255\n",
        "\n",
        "train_transforms = transforms.Compose([\n",
        "    transforms.ToTensor(),\n",
        "    transforms.Normalize(mean = [mean], std = [std])\n",
        "])\n",
        "\n",
        "test_transforms = transforms.Compose([\n",
        "    transforms.ToTensor(),\n",
        "    transforms.Normalize(mean = [mean], std = [std])\n",
        "])\n",
        "\n",
        "train_data.dataset.transform = train_transforms\n",
        "valid_data.dataset.transform = test_transforms\n",
        "\n",
        "BATCH_SIZE = 256\n",
        "\n",
        "train_dataloader = data.DataLoader(train_data, batch_size=BATCH_SIZE, shuffle=True)\n",
        "valid_dataloader = data.DataLoader(valid_data, batch_size=BATCH_SIZE)"
      ],
      "metadata": {
        "id": "NC40BYUfRhWe"
      },
      "execution_count": null,
      "outputs": []
    },
    {
      "cell_type": "markdown",
      "source": [
        "Xây dựng mô hình LeNet"
      ],
      "metadata": {
        "id": "7ugM60QYarj9"
      }
    },
    {
      "cell_type": "code",
      "source": [
        "class LeNetClassifier(nn.Module):\n",
        "    def __init__(self, num_classes):\n",
        "        super().__init__()\n",
        "        self.conv1 = nn.Conv2d(\n",
        "            in_channels = 1, out_channels = 6, kernel_size = 5, padding = 'same'\n",
        "        )\n",
        "        self.avgpool1 = nn.AvgPool2d(kernel_size = 2)\n",
        "        self.conv2 = nn.Conv2d(\n",
        "            in_channels = 6, out_channels = 16, kernel_size = 5)\n",
        "        self.avgpool2 = nn.AvgPool2d(kernel_size = 2)\n",
        "        self.flatten = nn.Flatten()\n",
        "        self.fc_1 = nn.Linear(16*5*5, 120)\n",
        "        self.fc_2 = nn.Linear(120, 84)\n",
        "        self.fc_3 = nn.Linear(84, num_classes)\n",
        "\n",
        "    def forward(self, inputs):\n",
        "        outputs = self.conv1(inputs)\n",
        "        outputs = self.avgpool1(outputs)\n",
        "        outputs = F.relu(outputs)\n",
        "        outputs = self.conv2(outputs)\n",
        "        outputs = self.avgpool2(outputs)\n",
        "        outputs = F.relu(outputs)\n",
        "        outputs = self.flatten(outputs)\n",
        "        outputs = self.fc_1(outputs)\n",
        "\n",
        "        outputs = self.fc_2(outputs)\n",
        "\n",
        "        outputs = self.fc_3(outputs)\n",
        "        return outputs"
      ],
      "metadata": {
        "id": "WqU4rJ8layR8"
      },
      "execution_count": null,
      "outputs": []
    },
    {
      "cell_type": "code",
      "source": [
        "def train(model, optimizer, criterion, train_dataloader, device, epoch=0, log_interval=50):\n",
        "    model.train()\n",
        "    total_acc, total_count = 0, 0\n",
        "    losses = []\n",
        "    start_time = time.time()\n",
        "\n",
        "    for idx, (inputs, labels) in enumerate(train_dataloader):\n",
        "        inputs = inputs.to(device)\n",
        "        labels = labels.to(device)\n",
        "\n",
        "        optimizer.zero_grad()\n",
        "\n",
        "        predictions = model(inputs)\n",
        "\n",
        "        loss = criterion(predictions, labels)\n",
        "        losses.append(loss.item())\n",
        "\n",
        "        # backward\n",
        "        loss.backward()\n",
        "        torch.nn.utils.clip_grad_norm_(model.parameters(), 0.1)\n",
        "        optimizer.step()\n",
        "        total_acc += (predictions.argmax(1) == labels).sum().item()\n",
        "        total_count += labels.size(0)\n",
        "        if idx % log_interval == 0 and idx > 0:\n",
        "            elapsed = time.time() - start_time\n",
        "            print(\n",
        "                \"| epoch {:3d} | {:5d}/{:5d} batches \"\n",
        "                \"| accuracy {:8.3f}\".format(  # Changed line: Removed the comma\n",
        "                    epoch, idx, len(train_dataloader),\n",
        "                    total_acc / total_count\n",
        "                )\n",
        "            )\n",
        "            total_acc, total_count = 0, 0\n",
        "            start_time = time.time()\n",
        "\n",
        "    epoch_acc = total_acc / total_count\n",
        "    epoch_loss = sum(losses) / len(losses)\n",
        "    return epoch_loss, epoch_acc"
      ],
      "metadata": {
        "id": "rUvzJt6XgmuH"
      },
      "execution_count": null,
      "outputs": []
    },
    {
      "cell_type": "code",
      "source": [
        "#Evaluation function\n",
        "def evaluate(model, criterion, valid_dataloader):\n",
        "    model.eval()\n",
        "    total_acc, total_count = 0, 0\n",
        "    losses = []\n",
        "    with torch.no_grad():\n",
        "        for idx, (inputs, labels) in enumerate(valid_dataloader):\n",
        "            inputs = inputs.to(device)\n",
        "            labels = labels.to(device)\n",
        "            predictions = model(inputs)\n",
        "            loss = criterion(predictions, labels)\n",
        "            losses.append(loss.item())\n",
        "            total_acc += (predictions.argmax(1) == labels).sum().item()\n",
        "            total_count += labels.size(0)\n",
        "    epoch_acc = total_acc/total_count\n",
        "    epoch_loss = sum(losses)/len(losses)\n",
        "    return epoch_acc, epoch_loss"
      ],
      "metadata": {
        "id": "1n8RBN9dhu3b"
      },
      "execution_count": null,
      "outputs": []
    },
    {
      "cell_type": "markdown",
      "source": [
        "Training:"
      ],
      "metadata": {
        "id": "4OdNzACggACK"
      }
    },
    {
      "cell_type": "code",
      "source": [
        "num_classes = len(train_data.dataset.classes)\n",
        "\n",
        "device = torch.device('cuda' if torch.cuda.is_available() else 'cpu')\n",
        "\n",
        "lenet_model = LeNetClassifier(num_classes).to(device)\n",
        "\n",
        "optimizer = optim.Adam(lenet_model.parameters())\n",
        "criterion = nn.CrossEntropyLoss()\n",
        "\n",
        "num_epochs = 10\n",
        "save_model = './models'\n",
        "\n",
        "\n",
        "train_accs = []\n",
        "train_losses = []\n",
        "eval_accs = []\n",
        "eval_losses = []\n",
        "best_loss_eval = 100\n",
        "\n",
        "for epoch in range(1, num_epochs+1):\n",
        "    epoch_start_time = time.time()\n",
        "    #Training\n",
        "    train_acc, train_loss = train(lenet_model, optimizer, criterion,\n",
        "                                  train_dataloader, device, epoch)\n",
        "    train_accs.append(train_acc)\n",
        "    train_losses.append(train_loss)\n",
        "\n",
        "    #Evaluation\n",
        "    eval_acc, eval_loss = evaluate(lenet_model, criterion, valid_dataloader)\n",
        "    eval_accs.append(eval_acc)\n",
        "    eval_losses.append(eval_loss)\n",
        "\n",
        "    #Save best model\n",
        "    if eval_loss < best_loss_eval:\n",
        "        torch.save(lenet_model.state_dict(),save_model + '/lenet_model.pt')\n",
        "\n",
        "    # Print loss, acc and epoch\n",
        "    print(\"-\" * 59)\n",
        "    print(\"| End of epoch {:3d} | time: {:5.2f}s | Train Accuracy {:8.3f} | Train Loss {:8.3f} |\"\n",
        "          \"Valid Accuracy {:8.3f} | Valid Loss {:8.3f} |\".format(\n",
        "              epoch, time.time() - epoch_start_time, train_acc, train_loss, eval_acc, eval_loss\n",
        "          )\n",
        "    )\n",
        "    print(\"-\" *59)\n",
        "    #Load th best model\n",
        "    lenet_model.load_state_dict(torch.load(save_model + '/lenet_model.pt'))\n",
        "    lenet_model.eval()\n",
        "\n",
        "\n"
      ],
      "metadata": {
        "id": "6dp6N43AgDLr"
      },
      "execution_count": null,
      "outputs": []
    },
    {
      "cell_type": "code",
      "source": [
        "test_data.transform = test_transforms\n",
        "test_dataloader = data.DataLoader(test_data, batch_size=BATCH_SIZE)\n",
        "test_acc, test_loss = evaluate(lenet_model, criterion, test_dataloader)\n",
        "print(f\"Test Accuracy: {test_acc}, Test Loss: {test_loss}\")"
      ],
      "metadata": {
        "colab": {
          "base_uri": "https://localhost:8080/"
        },
        "id": "qI2WUKDicJXP",
        "outputId": "c370b2b3-e004-4624-8393-dfc401fd8cb3"
      },
      "execution_count": null,
      "outputs": [
        {
          "output_type": "stream",
          "name": "stdout",
          "text": [
            "Test Accuracy: 0.9646, Test Loss: 0.10873495448613539\n"
          ]
        }
      ]
    },
    {
      "cell_type": "markdown",
      "source": [
        "Cassava Leaf Disease"
      ],
      "metadata": {
        "id": "RnfWJT6PmK2g"
      }
    },
    {
      "cell_type": "code",
      "source": [
        "# prompt: Tải bộ dữ liệu cassava leaf disease từ googleapis\n",
        "\n",
        "!pip install -U -q kaggle\n",
        "!mkdir -p ~/.kaggle\n",
        "!echo '{\"username\":\"YOUR_KAGGLE_USERNAME\",\"key\":\"YOUR_KAGGLE_API_KEY\"}' > ~/.kaggle/kaggle.json\n",
        "!chmod 600 ~/.kaggle/kaggle.json\n",
        "!kaggle datasets download -d datamunge/cassava-leaf-disease-classification\n",
        "!unzip cassava-leaf-disease-classification.zip -d cassava-leaf-disease"
      ],
      "metadata": {
        "id": "OdjCmnH3uYCy"
      },
      "execution_count": null,
      "outputs": []
    },
    {
      "cell_type": "markdown",
      "source": [],
      "metadata": {
        "id": "SZVXWvrauXW0"
      }
    },
    {
      "cell_type": "code",
      "source": [
        "!wget --no-check-certificate https://storage.googleapis.com/emcassavadata/cassavaleafdata.zip -O /content/cassavaleafdata.zip\n",
        "!unzip /content/cassavaleafdata.zip\n",
        "\n",
        "import os\n",
        "import random\n",
        "import numpy as np\n",
        "\n",
        "import torch\n",
        "import torch.nn as nn\n",
        "import torch.optim as optim\n",
        "import torch.nn.functional as F\n",
        "import torch.utils.data as data\n",
        "\n",
        "import torchvision.transforms as transforms\n",
        "import torchvision.datasets as datasets\n",
        "\n",
        "from torchsummary import summary\n",
        "\n",
        "import matplotlib.pyplot as plt\n",
        "from PIL import Image\n"
      ],
      "metadata": {
        "id": "lq4vaSTBoZFz"
      },
      "execution_count": null,
      "outputs": []
    },
    {
      "source": [
        "data_paths = {\n",
        "    'train' : './train',\n",
        "    'valid' : './valid/',\n",
        "    'test' : './test'\n",
        "}\n",
        "\n",
        "# load image from path\n",
        "def loader(path):\n",
        "    return Image.open(path)\n",
        "\n",
        "img_size = 150\n",
        "train_transforms = transforms.Compose([\n",
        "    transforms.Resize((150, 150)),\n",
        "    transforms.ToTensor(),\n",
        "\n",
        "])\n",
        "\n",
        "valid_data = datasets.ImageFolder(root = data_paths['valid'], transform = train_transforms)\n",
        "test_data = datasets.ImageFolder(root = data_paths['test'], transform = train_transforms)"
      ],
      "cell_type": "code",
      "metadata": {
        "id": "iMlsOp64uURd"
      },
      "execution_count": null,
      "outputs": []
    },
    {
      "cell_type": "code",
      "source": [
        "class LeNetClassifier(nn.Module):\n",
        "    def __init__(self, num_classes):\n",
        "        super().__init__()\n",
        "        self.conv1 = nn.Conv2d(\n",
        "            in_channels = 3, out_channels = 6, kernel_size = 5, padding = 'same'\n",
        "        )\n",
        "        self.avgpool1 = nn.AvgPool2d(kernel_size = 2)\n",
        "        self.conv2 = nn.Conv2d(in_channels = 6, out_channels = 16, kernel_size = 5)\n",
        "        self.avgpool2 = nn.AvgPool2d(kernel_size = 2)\n",
        "        self.flatten = nn.Flatten()\n",
        "        self.fc_1 = nn.Linear(16*35*35, 120)\n",
        "        self.fc_2 = nn.Linear(120, 84)\n",
        "        self.fc_3 = nn.Linear(84, num_classes)\n",
        "\n",
        "    def forward(self, inputs):\n",
        "        outputs = self.conv1(inputs)\n",
        "        outputs = self.avgpool1(outputs)\n",
        "        outputs = F.relu(outputs)\n",
        "        outputs = self.conv2(outputs)\n",
        "        outputs = self.avgpool2(outputs)\n",
        "        outputs = F.relu(outputs)\n",
        "        outputs = self.flatten(outputs)\n",
        "        outputs = self.fc_1(outputs)\n",
        "\n",
        "        outputs = self.fc_2(outputs)\n",
        "\n",
        "        outputs = self.fc_3(outputs)\n",
        "        return outputs"
      ],
      "metadata": {
        "id": "bx0gKGT0EOYD"
      },
      "execution_count": null,
      "outputs": []
    },
    {
      "cell_type": "code",
      "source": [
        "def train(model, optimizer, criterion, train_dataloader, device, epoch=0, log_interval=50):\n",
        "    model.train()\n",
        "    total_acc, total_count = 0, 0\n",
        "    losses = []\n",
        "    start_time = time.time()\n",
        "\n",
        "    for idx, (inputs, labels) in enumerate(train_dataloader):\n",
        "        inputs = inputs.to(device)\n",
        "        labels = labels.to(device)\n",
        "\n",
        "        optimizer.zero_grad()\n",
        "\n",
        "        predictions = model(inputs)\n",
        "\n",
        "        loss = criterion(predictions, labels)\n",
        "        losses.append(loss.item())\n",
        "\n",
        "        # backward\n",
        "        loss.backward()\n",
        "        torch.nn.utils.clip_grad_norm_(model.parameters(), 0.1)\n",
        "        optimizer.step()\n",
        "        total_acc += (predictions.argmax(1) == labels).sum().item()\n",
        "        total_count += labels.size(0)\n",
        "        if idx % log_interval == 0 and idx > 0:\n",
        "            elapsed = time.time() - start_time\n",
        "            print(\n",
        "                \"| epoch {:3d} | {:5d}/{:5d} batches \"\n",
        "                \"| accuracy {:8.3f}\".format(  # Changed line: Removed the comma\n",
        "                    epoch, idx, len(train_dataloader),\n",
        "                    total_acc / total_count\n",
        "                )\n",
        "            )\n",
        "            total_acc, total_count = 0, 0\n",
        "            start_time = time.time()\n",
        "\n",
        "    epoch_acc = total_acc / total_count\n",
        "    epoch_loss = sum(losses) / len(losses)\n",
        "    return epoch_loss, epoch_acc"
      ],
      "metadata": {
        "id": "DS8K9VnJF9GR"
      },
      "execution_count": null,
      "outputs": []
    },
    {
      "cell_type": "code",
      "source": [
        "#Evaluation function\n",
        "def evaluate(model, criterion, valid_dataloader):\n",
        "    model.eval()\n",
        "    total_acc, total_count = 0, 0\n",
        "    losses = []\n",
        "    with torch.no_grad():\n",
        "        for idx, (inputs, labels) in enumerate(valid_dataloader):\n",
        "            inputs = inputs.to(device)\n",
        "            labels = labels.to(device)\n",
        "            predictions = model(inputs)\n",
        "            loss = criterion(predictions, labels)\n",
        "            losses.append(loss.item())\n",
        "            total_acc += (predictions.argmax(1) == labels).sum().item()\n",
        "            total_count += labels.size(0)\n",
        "    epoch_acc = total_acc/total_count\n",
        "    epoch_loss = sum(losses)/len(losses)\n",
        "    return epoch_acc, epoch_loss"
      ],
      "metadata": {
        "id": "fXq_RVxgG-go"
      },
      "execution_count": null,
      "outputs": []
    },
    {
      "cell_type": "code",
      "source": [
        "num_classes = len(train_data.dataset.classes)\n",
        "\n",
        "device = torch.device('cuda' if torch.cuda.is_available() else 'cpu')\n",
        "\n",
        "lenet_model = LeNetClassifier(num_classes).to(device)\n",
        "learning_rate = 2e-4\n",
        "optimizer = optim.Adam(lenet_model.parameters(), learning_rate)\n",
        "criterion = nn.CrossEntropyLoss()\n",
        "\n",
        "num_epochs = 10\n",
        "save_model = './models'\n",
        "\n",
        "\n",
        "train_accs = []\n",
        "train_losses = []\n",
        "eval_accs = []\n",
        "eval_losses = []\n",
        "best_loss_eval = 100\n",
        "\n",
        "for epoch in range(1, num_epochs+1):\n",
        "    epoch_start_time = time.time()\n",
        "    #Training\n",
        "    train_acc, train_loss = train(lenet_model, optimizer, criterion,\n",
        "                                  train_dataloader, device, epoch)\n",
        "    train_accs.append(train_acc)\n",
        "    train_losses.append(train_loss)\n",
        "\n",
        "    #Evaluation\n",
        "    eval_acc, eval_loss = evaluate(lenet_model, criterion, valid_dataloader)\n",
        "    eval_accs.append(eval_acc)\n",
        "    eval_losses.append(eval_loss)\n",
        "\n",
        "    #Save best model\n",
        "    if eval_loss < best_loss_eval:\n",
        "        torch.save(lenet_model.state_dict(),save_model + '/lenet_model_casseva.pt')\n",
        "\n",
        "    # Print loss, acc and epoch\n",
        "    print(\"-\" * 59)\n",
        "    print(\"| End of epoch {:3d} | time: {:5.2f}s | Train Accuracy {:8.3f} | Train Loss {:8.3f} |\"\n",
        "          \"Valid Accuracy {:8.3f} | Valid Loss {:8.3f} |\".format(\n",
        "              epoch, time.time() - epoch_start_time, train_acc, train_loss, eval_acc, eval_loss\n",
        "          )\n",
        "    )\n",
        "    print(\"-\" *59)\n",
        "    #Load th best model\n",
        "    lenet_model.load_state_dict(torch.load(save_model + '/lenet_model_casseva.pt'))\n",
        "    lenet_model.eval()\n",
        "\n",
        "\n"
      ],
      "metadata": {
        "id": "vE97koPTHN7A"
      },
      "execution_count": null,
      "outputs": []
    },
    {
      "cell_type": "code",
      "source": [
        "test_acc, test_loss = evaluate(lenet_model, criterion, test_dataloader)\n",
        "print(f\"Test Accuracy: {test_acc}, Test Loss: {test_loss}\")"
      ],
      "metadata": {
        "id": "XLDDfb9dIlyV"
      },
      "execution_count": null,
      "outputs": []
    },
    {
      "cell_type": "code",
      "source": [
        "!git clone https://github.com/congnghia0609/ntc-scv.git\n",
        "!unzip ./ntc-scv/data/data_test.zip -d ./data\n",
        "!unzip ./ntc-scv/data/data_train.zip -d ./data\n",
        "\n",
        "import os\n",
        "import pandas as pd\n",
        "\n",
        "def load_data_from_path(folder_path):\n",
        "    examples = []\n",
        "    for label in os.listdir(folder_path):\n",
        "        full_path = os.path.join(folder_path, label)\n",
        "        for file_name in os.listdir(full_path):\n",
        "            file_path = os.path.join(full_path, file_name)\n",
        "            with open(file_path, \"r\", encoding = \"utf-8\") as f:\n",
        "                lines = f.readlines()\n",
        "            sentence = \" \".join(lines)\n",
        "            if label == \"neg\":\n",
        "                label = 0\n",
        "            if label == \"pos\":\n",
        "                label = 1\n",
        "            data = {\n",
        "                'sentence': sentence,\n",
        "                'label': label\n",
        "            }\n",
        "            examples.append(data)\n",
        "    return pd.DataFrame(examples)\n",
        "\n",
        "folder_paths = {\n",
        "    'train': './data/data_train/train',\n",
        "    'valid': './data/data_train/valid',\n",
        "    'test': './data/data_test/test'\n",
        "}\n",
        "\n",
        "train_data = load_data_from_path(folder_paths['train'])\n",
        "valid_data = load_data_from_path(folder_paths['valid'])\n",
        "test_data = load_data_from_path(folder_paths['test'])\n"
      ],
      "metadata": {
        "id": "O-hZzTk15MGI"
      },
      "execution_count": null,
      "outputs": []
    },
    {
      "cell_type": "code",
      "source": [
        "!pip install langid\n",
        "\n",
        "from langid.langid import LanguageIdentifier, model\n",
        "def identity_vn(df):\n",
        "    identifier = LanguageIdentifier.from_pickled_model(model, norm_probs=True)\\\n",
        "    not_vi_idx = set()\n",
        "    THRESHOLD = 0.9\n",
        "    for idx, row in df.iterrows():\n",
        "        score = identifier.classify(row['sentence'])\n",
        "        if score[0] != \"vi\" or (score[0] == \"vi\" and score[1] <= THRESHOLD):\n",
        "            not_vi_idx.add(idx)\n",
        "    vi_df = df[~ df.index.isin(not_vi_idx)]\n",
        "    not_vi_df = df[df.index.isin(not_vi_idx)]\n",
        "    return vi_df, not_vi_df\n",
        "\n",
        "train_df_vi, train_df_other = identity_vn(train_data)\n"
      ],
      "metadata": {
        "id": "1DhUuv6s7_kE"
      },
      "execution_count": null,
      "outputs": []
    },
    {
      "cell_type": "markdown",
      "source": [
        "– Xoá bỏ thẻ HTML, đường dẫn URL\n",
        "\n",
        "– Xoá bỏ dấu câu, số\n",
        "\n",
        "–Xoá bỏ các ký tự đặc biệt, emoticons,...\n",
        "\n",
        "– Chuẩn hoá khoảng trắng\n",
        "\n",
        "– Chuyển sang viết thường"
      ],
      "metadata": {
        "id": "HoO0UQffDFFz"
      }
    },
    {
      "cell_type": "code",
      "source": [
        "import re\n",
        "import string\n",
        "def preprocess_text(text):\n",
        "\n",
        "    url_pattern = re.compile(r'https?://\\s+\\wwww\\.\\s+')\n",
        "    text = url_pattern.sub(r\" \", text)\n",
        "\n",
        "    html_pattern = re.compile(r'<[^<>]+>')\n",
        "    text = html_pattern.sub(\" \", text)\n",
        "\n",
        "    replace_chars = list(string.punctuation + string.digits)\n",
        "    for char in replace_chars:\n",
        "        text = text.replace(char, \" \")\n",
        "\n",
        "    import re\n",
        "\n",
        "    emoji_pattern = re.compile(\n",
        "        \"[\"\n",
        "        u\"\\U0001F600-\\U0001F64F\"  # emoticons\n",
        "        u\"\\U0001F300-\\U0001F5FF\"  # symbols & pictographs\n",
        "        u\"\\U0001F680-\\U0001F6FF\"  # transport & map symbols\n",
        "        u\"\\U0001F1E0-\\U0001F1FF\"  # flags (iOS)\n",
        "        u\"\\U0001F1F2-\\U0001F1F4\"  # Macau flag\n",
        "        u\"\\U0001F1E6-\\U0001F1FF\"  # flags\n",
        "        u\"\\U0001F600-\\U0001F64F\"\n",
        "        u\"\\u2702-\\u27B0\"\n",
        "        u\"\\u24C2-\\u1F251\"\n",
        "        u\"\\u1F926-\\u1F937\"\n",
        "        u\"\\u1F1F2\"\n",
        "        u\"\\u1F1F4\"\n",
        "        u\"\\u1F620\"\n",
        "        u\"\\u200d\"\n",
        "        u\"\\u2640-\\u2642\"\n",
        "        \"]+\",\n",
        "        flags=re.UNICODE\n",
        "    )\n",
        "    text = emoji_pattern.sub(r\" \", text)\n",
        "\n",
        "    text = \" \".join(text.split())\n",
        "    text = text.lower()\n",
        "    return text\n",
        "\n",
        "train_df_vi['preprocess_sentence'] = [\n",
        "    preprocess_text(row['sentence']) for idx, row in train_df_vi.iterrows()\n",
        "]\n",
        "\n",
        "valid_df['preprocess_sentence'] = [\n",
        "    preprocess_text(row['sentence']) for idx, row in valid_df.iterrows()\n",
        "]\n",
        "\n",
        "test_df['preprocess_sentence'] = [\n",
        "    preprocess_text(row['sentence']) for idx, row in test_df.iterrows()\n",
        "]\n"
      ],
      "metadata": {
        "id": "yNYVMlzXDBjN"
      },
      "execution_count": null,
      "outputs": []
    },
    {
      "cell_type": "code",
      "source": [
        "!pip install -q torchtext==0.16.0\n",
        "\n",
        "#word-based tokenizer\n",
        "from torchtext.data.utils import get_tokenizer\n",
        "tokenizer = get_tokenizer(\"basic_english\")\n",
        "\n",
        "def yield_tokens(sentences, tokenizer):\n",
        "    for sentence in sentences:\n",
        "        yield tokenizer(sentence)\n",
        "\n",
        "from torchtext.vocab import build_vocab_from_iterator\n",
        "\n",
        "vocab_size = 10000\n",
        "vocabulary = build_vocab_from_iterator(\n",
        "    yield_tokens(train_df_vi['preprocess_sentence'], tokenizer),\n",
        "    specials=[\"<pad>\",\"<unk>\"],\n",
        "    max_tokens=vocab_size\n",
        ")\n",
        "vocabulary.set_default_index(vocabulary[\"<unk>\"])\n",
        "\n",
        "from torchtext.data.functional import to_map_style_dataset\n",
        "def prepare_dataset(df):\n",
        "    for index, row in df.iterrows():\n",
        "        sentence = row['preprocess_sentence']\n",
        "        encoded_sentence = vocabulary(tokenizer(sentence))\n",
        "        label = row['label']\n",
        "        yield (sentence, label)\n",
        "\n",
        "train_dataset = to_map_style_dataset(prepare_dataset(train_df_vi))\n",
        "valid_dataset = to_map_style_dataset(prepare_dataset(valid_df))\n"
      ],
      "metadata": {
        "id": "wcBx3vVK_nBC"
      },
      "execution_count": null,
      "outputs": []
    },
    {
      "cell_type": "code",
      "source": [
        "import torch\n",
        "from torch.utils.data import DataLoader\n",
        "\n",
        "def collate_batch(batch):\n",
        "    encoded_sentences, labels = [], []\n",
        "    for sentence, label in batch:\n",
        "        labels.append(label)\n",
        "        encoded_sentences.append(encoded_sentence, dtype= torch.int64)\n",
        "        encoded_sentences.append(encoded_sentence)\n",
        "\n",
        "    labels = torch.tensor(labels, dtype=torch.int64)\n",
        "    encoded_sentences = pad_sequence(\n",
        "        encoded_sentences,\n",
        "        padding_value=vocabulary[\"<pad>\"]\n",
        "    )\n",
        "\n",
        "    return encoded_sentences, labels\n",
        "\n",
        "batch_size = 128\n",
        "train_dataloader = DataLoader(\n",
        "    train_dataset,\n",
        "    batch_size = batch_size,\n",
        "    shuffle = True,\n",
        "    collate_fn = collate_batch\n",
        ")\n",
        "valid_dataloader = DataLoader(\n",
        "    valid_dataset,\n",
        "    batch_size = batch_size,\n",
        "    shuffle = True,\n",
        "    collate_fn = collate_batch\n",
        ")\n",
        "\n"
      ],
      "metadata": {
        "id": "lKMpefSUBJ1C"
      },
      "execution_count": null,
      "outputs": []
    },
    {
      "cell_type": "code",
      "source": [
        "class TextCNN(nn.Module):\n",
        "    def __init__(self, vocab_size, embedding_dim, kernel_sizes, num_filters, num_classes):\n",
        "        super(TextCNN, self).__init__()\n",
        "\n",
        "        self.vocab_size = vocab_size\n",
        "        self.embedding_dim = embedding_dim\n",
        "        self.kernel_sizes = kernel_sizes\n",
        "        self.num_filters = num_filters\n",
        "        self.num_classes = num_classes\n",
        "        self.embedding = nn.Embedding(vocab_size, embedding_dim, padding_idx= 0)\n",
        "        self.conv = nn.ModuleList([\n",
        "            nn.Conv1d(\n",
        "                in_channels = embedding_dim,\n",
        "                out_channels = num_filters,\n",
        "                kernel_size = k\n",
        "                stride = 1\n",
        "        ) for k in kernel_sizes])\n",
        "        self.fc = nn.Linear(len(kernel_sizes) * num_filters, num_classes)\n",
        "\n",
        "    def forward(self, x):\n",
        "        batch_size, sequence_length = x.size()\n",
        "        x = self.embedding(x.T).transpose(1,2)\n",
        "        x = [F.relu(conv(x)) for conv in self.conv]\n",
        "        x = [F.max_pool1d(c,c.size(-1)).squeeze(dim= -1) for c in x]\n",
        "        x = torch.cat(x, dim = 1)\n",
        "        x = self.fc(x)\n",
        "        return x"
      ],
      "metadata": {
        "id": "RuGysHNlCiSU"
      },
      "execution_count": null,
      "outputs": []
    },
    {
      "cell_type": "code",
      "source": [
        "#Training\n",
        "import time\n",
        "def train(model, optimizer, criterion, train_dataloader, device, epoch=0, log_interval=50):\n",
        "    model.train()\n",
        "    total_acc, total_count = 0, 0\n",
        "    losses = []\n",
        "    start_time = time.time()\n",
        "\n",
        "    for idx, (inputs, labels) in enumerate(train_dataloader):\n",
        "        inputs = inputs.to(device)\n",
        "        labels = labels.to(device)\n",
        "\n",
        "        optimizer.zero_grad()\n",
        "\n",
        "        predictions = model(inputs)\n",
        "\n",
        "        loss = criterion(predictions, labels)\n",
        "        losses.append(loss.item())\n",
        "\n",
        "        # backward\n",
        "        loss.backward()\n",
        "\n",
        "        optimizer.step()\n",
        "        total_acc += (predictions.argmax(1) == labels).sum().item()\n",
        "        total_count += labels.size(0)\n",
        "        if idx % log_interval == 0 and idx > 0:\n",
        "            elapsed = time.time() - start_time\n",
        "            print(\n",
        "                \"| epoch {:3d} | {:5d}/{:5d} batches \"\n",
        "                \"| accuracy {:8.3f}\".format(  # Changed line: Removed the comma\n",
        "                    epoch, idx, len(train_dataloader),\n",
        "                    total_acc / total_count\n",
        "                )\n",
        "            )\n",
        "            total_acc, total_count = 0, 0\n",
        "            start_time = time.time()\n",
        "\n",
        "    epoch_acc = total_acc / total_count\n",
        "    epoch_loss = sum(losses) / len(losses)\n",
        "    return epoch_loss, epoch_acc"
      ],
      "metadata": {
        "id": "fMmJABObhHdd"
      },
      "execution_count": null,
      "outputs": []
    },
    {
      "cell_type": "code",
      "source": [
        "#Evaluation function\n",
        "def evaluate(model, criterion, valid_dataloader):\n",
        "    model.eval()\n",
        "    total_acc, total_count = 0, 0\n",
        "    losses = []\n",
        "    with torch.no_grad():\n",
        "        for idx, (inputs, labels) in enumerate(valid_dataloader):\n",
        "            inputs = inputs.to(device)\n",
        "            labels = labels.to(device)\n",
        "            predictions = model(inputs)\n",
        "            loss = criterion(predictions, labels)\n",
        "            losses.append(loss.item())\n",
        "            total_acc += (predictions.argmax(1) == labels).sum().item()\n",
        "            total_count += labels.size(0)\n",
        "    epoch_acc = total_acc/total_count\n",
        "    epoch_loss = sum(losses)/len(losses)\n",
        "    return epoch_acc, epoch_loss"
      ],
      "metadata": {
        "id": "2Y7MfWCEj6a4"
      },
      "execution_count": null,
      "outputs": []
    },
    {
      "cell_type": "code",
      "source": [
        "num_class = 2\n",
        "vocab_size = len(vocabulary)\n",
        "embedding_dim = 100\n",
        "device = torch.device('cuda' if torch.cuda.is_available() else 'cpu')\n",
        "\n",
        "model = TextCNN(\n",
        "    vocab_size = vocab_size,\n",
        "    embedding_dim = embedding_dim,\n",
        "    kernel_sizes = [3,4,5],\n",
        "    num_filters = 100,\n",
        "    num_classes = num_class\n",
        ")\n",
        "model.to(device)\n",
        "\n",
        "criterion = torch.nn.CrossEntropyLoss()\n",
        "optimizer = torch.optim.Adam(model.parameters())\n",
        "\n",
        "num_epochs = 10\n",
        "save_model = './model'\n",
        "\n",
        "train_accs, train_losses = [], []\n",
        "eval_accs, eval_losses = [], []\n",
        "best_loss_eval = 100\n",
        "\n",
        "for epoch in range(1, num_epochs + 1):\n",
        "    epoch_start_time = time.time()\n",
        "    #Training\n",
        "    train_acc, train_loss = train(model, optimizer, criterion, train_dataloader, device, epoch)\n",
        "    train_accs.append(train_acc)\n",
        "    train_losses.append(train_loss)\n",
        "\n",
        "    #Evaluation\n",
        "    eval_acc, eval_loss = evaluate(model, criterion, valid_dataloader)\n",
        "    eval_accs.append(eval_acc)\n",
        "    eval_losses.append(eval_loss)\n",
        "\n",
        "    #save best model\n",
        "    if eval_loss < best_loss_eval:\n",
        "        torch.save(model.state_dict(), save_model + '/text_cnn_model.pt')\n",
        "\n",
        "    #Print loss, acc end epoch\n",
        "    print(\"-\" * 59)\n",
        "    print(\"| End of epoch {:3d} | time: {:5.2f}s | Train Accuracy {:8.3f} | Train Loss {:8.3f} |\"\n",
        "          \"Valid Accuracy {:8.3f} | Valid Loss {:8.3f} |\".format(\n",
        "              epoch, time.time() - epoch_start_time, train_acc, train_loss, eval_acc, eval_loss\n",
        "          )\n",
        "    )\n",
        "    print(\"-\" *59)\n",
        "\n",
        "    #load best model\n",
        "    model.load_state_dict(torch.load(save_model + '/text_cnn_model.pt'))\n",
        "    model.eval()"
      ],
      "metadata": {
        "id": "a1xoY2LwkFBl"
      },
      "execution_count": null,
      "outputs": []
    },
    {
      "cell_type": "code",
      "source": [
        "test_dataset = prepare_dataset(test_df)\n",
        "test_dataset = to_map_style_dataset(test_dataset)\n",
        "test_dataloader = DataLoader(\n",
        "    test_dataset,\n",
        "    batch_size = batch_size,\n",
        "    shuffle = False,\n",
        "    collate_fn = collate_batch\n",
        ")\n",
        "\n",
        "test_acc, test_loss = evaluate(model, criterion, test_dataloader)\n",
        "print(f\"Test Accuracy: {test_acc}, Test Loss: {test_loss}\")"
      ],
      "metadata": {
        "id": "BcA09ZdHw0g-"
      },
      "execution_count": null,
      "outputs": []
    }
  ]
}